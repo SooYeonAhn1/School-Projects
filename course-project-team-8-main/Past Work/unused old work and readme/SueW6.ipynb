{
 "cells":[
  {
   "cell_type":"code",
   "source":[
    "import tarfile as tar\n",
    "\n",
    "# assumed that dataset will be stored in .tgz file\n",
    "filename = \"ascii.tgz\" # insert filename after finishing ML model\n",
    "if tar.is_tarfile(filename):\n",
    "    print(\"is tarfile\") #checking file format\n",
    "data_tar = tar.open(filename)\n",
    "print(data_tar.getnames())\n",
    "data_tar.extractall(\".\/extracted_data\")\n",
    "\n",
    "with open(\".\/extracted_data\/words.txt\", 'r') as f:\n",
    "    print(f.read())\n",
    "\n",
    "# filter out null data\n",
    "# form data into a list\n",
    "# do the same for other .txt files\n",
    "# split data into train\/test\n",
    "# train data + test data => check accuracy"
   ],
   "execution_count":null,
   "outputs":[
    
   ],
   "metadata":{
    "datalore":{
     "node_id":"DzD19k0OjXB9R00jLXoi39",
     "type":"CODE",
     "hide_input_from_viewers":false,
     "hide_output_from_viewers":false
    }
   }
  }
 ],
 "metadata":{
  "kernelspec":{
   "display_name":"Python",
   "language":"python",
   "name":"python"
  },
  "datalore":{
   "version":1,
   "computation_mode":"REACTIVE",
   "package_manager":"pip",
   "base_environment":"default",
   "packages":[
    
   ]
  }
 },
 "nbformat":4,
 "nbformat_minor":4
}
